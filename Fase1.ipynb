{
 "cells": [
  {
   "cell_type": "markdown",
   "metadata": {
    "colab_type": "text",
    "id": "CYNAmoj4zSXl"
   },
   "source": [
    "Crie um algoritmo em Python que mostre a mensagem \"Alo mundo\" na tela."
   ]
  },
  {
   "cell_type": "code",
   "execution_count": 12,
   "metadata": {
    "colab": {},
    "colab_type": "code",
    "id": "ViAfpy3GzPN-"
   },
   "outputs": [
    {
     "name": "stdout",
     "output_type": "stream",
     "text": [
      "Alo Mundo!\n"
     ]
    }
   ],
   "source": [
    "print(\"Alo Mundo!\")"
   ]
  },
  {
   "cell_type": "markdown",
   "metadata": {
    "colab_type": "text",
    "id": "gdMis92izSmQ"
   },
   "source": [
    "Crie um algoritmo em Python que peça dois números e imprima a soma."
   ]
  },
  {
   "cell_type": "code",
   "execution_count": 3,
   "metadata": {
    "colab": {},
    "colab_type": "code",
    "id": "BFpWkdCBz_zh",
    "scrolled": true
   },
   "outputs": [
    {
     "name": "stdout",
     "output_type": "stream",
     "text": [
      "Digite o primeiro número: 5\n",
      "Digite o segundo número: 4\n",
      "A soma desses dois números é:  9\n"
     ]
    }
   ],
   "source": [
    "num1 = int(input(\"Digite o primeiro número: \"))\n",
    "num2 = int(input(\"Digite o segundo número: \"))\n",
    "soma = num1 + num2\n",
    "print(\"A soma desses dois números é: \", soma)"
   ]
  },
  {
   "cell_type": "markdown",
   "metadata": {
    "colab_type": "text",
    "id": "E_0l_Vx6zSo2"
   },
   "source": [
    "Crie um algoritmo em Python que peça um número e então mostre a mensagem O número informado foi [número]."
   ]
  },
  {
   "cell_type": "code",
   "execution_count": 11,
   "metadata": {
    "colab": {},
    "colab_type": "code",
    "id": "KwJf7XZS0AZW"
   },
   "outputs": [
    {
     "name": "stdout",
     "output_type": "stream",
     "text": [
      "Digite um número: 6\n",
      "O número informado foi  6\n"
     ]
    }
   ],
   "source": [
    "numero = int(input(\"Digite um número: \"))\n",
    "print(\"O número informado foi \", numero)"
   ]
  },
  {
   "cell_type": "markdown",
   "metadata": {
    "colab_type": "text",
    "id": "1i4VCiiczSrL"
   },
   "source": [
    "Crie um algoritmo em Python que converta metros para centímetros."
   ]
  },
  {
   "cell_type": "code",
   "execution_count": 15,
   "metadata": {
    "colab": {},
    "colab_type": "code",
    "id": "yoW67hjA0BHy"
   },
   "outputs": [
    {
     "name": "stdout",
     "output_type": "stream",
     "text": [
      "Insira um valor para metro: 50.9\n",
      "Esse valor em centímetros é de:  5090.0 cm\n"
     ]
    }
   ],
   "source": [
    "metros = float(input(\"Insira um valor para metro: \"))\n",
    "centim = metros * 100\n",
    "print(\"Esse valor em centímetros é de: \", centim, \"cm\")"
   ]
  },
  {
   "cell_type": "markdown",
   "metadata": {
    "colab_type": "text",
    "id": "4ep7kezvzStO"
   },
   "source": [
    "Crie um algoritmo em Python que peça as 4 notas bimestrais e mostre a média."
   ]
  },
  {
   "cell_type": "code",
   "execution_count": 9,
   "metadata": {
    "colab": {},
    "colab_type": "code",
    "id": "6K6IHWdr0Blt"
   },
   "outputs": [
    {
     "name": "stdout",
     "output_type": "stream",
     "text": [
      "Digite o primeiro número: 6.5\n",
      "Digite o segundo número: 7.7\n",
      "Digite o primeiro número: 8\n",
      "Digite o segundo número: 9.5\n",
      "A média das notas é de: 7.92\n"
     ]
    }
   ],
   "source": [
    "num1 = float(input(\"Digite o primeiro número: \"))\n",
    "num2 = float(input(\"Digite o segundo número: \"))\n",
    "num3 = float(input(\"Digite o primeiro número: \"))\n",
    "num4 = float(input(\"Digite o segundo número: \"))\n",
    "media = (num1 + num2 + num3 + num4)/4\n",
    "print(\"A média das notas é de: {0:.2f}\".format(media))"
   ]
  },
  {
   "cell_type": "markdown",
   "metadata": {
    "colab_type": "text",
    "id": "u6__NaXqzeYg"
   },
   "source": [
    "Crie um algoritmo em Python que peça o raio de um círculo, calcule e mostre sua área."
   ]
  },
  {
   "cell_type": "code",
   "execution_count": 41,
   "metadata": {
    "colab": {},
    "colab_type": "code",
    "id": "mm2L7g3x0Cfx"
   },
   "outputs": [
    {
     "name": "stdout",
     "output_type": "stream",
     "text": [
      "Digite o raio aqui: 6\n",
      "A área do círculo é de: 113.094\n"
     ]
    }
   ],
   "source": [
    "raio = float(input(\"Digite o raio aqui: \"))\n",
    "pi = 3.1415\n",
    "area = pi * raio**2\n",
    "print(\"A área do círculo é de: {0:.3f}\".format(area))"
   ]
  },
  {
   "cell_type": "markdown",
   "metadata": {
    "colab_type": "text",
    "id": "lIlfG-ATzgOr"
   },
   "source": [
    "Crie um algoritmo em Python que calcule a área de um quadrado, em seguida mostre o dobro desta área para o usuário."
   ]
  },
  {
   "cell_type": "code",
   "execution_count": 40,
   "metadata": {
    "colab": {},
    "colab_type": "code",
    "id": "-y4pB6br0DD_"
   },
   "outputs": [
    {
     "name": "stdout",
     "output_type": "stream",
     "text": [
      "Digite um lado do quadrado: 20\n",
      "A área do quadrado é de:  400.0\n",
      "O dobro da área do quadrado é de:  800.0\n"
     ]
    }
   ],
   "source": [
    "lado = float(input(\"Digite um lado do quadrado: \"))\n",
    "area = lado**2\n",
    "areaD = 2 * area\n",
    "print(\"A área do quadrado é de: \", area)\n",
    "print(\"O dobro da área do quadrado é de: \", areaD)"
   ]
  },
  {
   "cell_type": "markdown",
   "metadata": {
    "colab_type": "text",
    "id": "Vj4OXsJQziu_"
   },
   "source": [
    "Crie um algoritmo em Python que pergunte quanto você ganha por hora e o número de horas trabalhadas no mês. Calcule e mostre o total do seu salário no referido mês.\n"
   ]
  },
  {
   "cell_type": "code",
   "execution_count": 27,
   "metadata": {
    "colab": {},
    "colab_type": "code",
    "id": "RmApGpg30D00"
   },
   "outputs": [
    {
     "name": "stdout",
     "output_type": "stream",
     "text": [
      "Quanto você ganha por hora: 66.0\n",
      "Quantas horas você trabalhou nesse mês : 24\n",
      "O seu salário é de: R$ 1584.0 por mês.\n"
     ]
    }
   ],
   "source": [
    "ganhoHora = float(input(\"Quanto você ganha por hora: \"))\n",
    "horaMes = float(input(\"Quantas horas você trabalhou nesse mês : \"))\n",
    "salario = ganhoHora * horaMes\n",
    "print(\"O seu salário é de: R$\", salario, \"por mês.\")"
   ]
  },
  {
   "cell_type": "markdown",
   "metadata": {
    "colab_type": "text",
    "id": "e7id8Ewgzlow"
   },
   "source": [
    "Crie um algoritmo em Python que peça a temperatura em graus Farenheit, transforme e mostre a temperatura em graus Celsius.\n",
    "C = (5 * (F-32) / 9)."
   ]
  },
  {
   "cell_type": "code",
   "execution_count": 31,
   "metadata": {
    "colab": {},
    "colab_type": "code",
    "id": "Kl0ainsv0Eif"
   },
   "outputs": [
    {
     "name": "stdout",
     "output_type": "stream",
     "text": [
      "Qual a temperatura em Farenheit: 100\n",
      "A temperatura em graus Celsius é de:  38 ºC\n"
     ]
    }
   ],
   "source": [
    "temptFah = float(input(\"Qual a temperatura em Fahrenheit: \"))\n",
    "tempCelsius = 5 * (temptFah - 32)/9\n",
    "print(\"A temperatura em graus Celsius é de: \", round(tempCelsius),\"ºC\")"
   ]
  },
  {
   "cell_type": "markdown",
   "metadata": {
    "colab_type": "text",
    "id": "mFCgXRPaznno"
   },
   "source": [
    "Crie um algoritmo em Python que peça a temperatura em graus Celsius, transforme e mostre em graus Farenheit."
   ]
  },
  {
   "cell_type": "code",
   "execution_count": 37,
   "metadata": {
    "colab": {},
    "colab_type": "code",
    "id": "xEAAHRi00FS8"
   },
   "outputs": [
    {
     "name": "stdout",
     "output_type": "stream",
     "text": [
      "Qual a temperatura em Celsius: 38\n",
      "A temperatura em graus Fahrenheit é de:  100 F\n"
     ]
    }
   ],
   "source": [
    "temptCelsius = float(input(\"Qual a temperatura em Celsius: \"))\n",
    "temptFah = (temptCelsius * 9/5) + 32\n",
    "print(\"A temperatura em graus Fahrenheit é de: \", round(temptFah),\"F\")"
   ]
  },
  {
   "cell_type": "markdown",
   "metadata": {
    "colab_type": "text",
    "id": "j3fdhu-8zqu9"
   },
   "source": [
    "Crie um algoritmo em Python que peça 2 números inteiros e um número real. Calcule e mostre:\n",
    "* a soma do dobro do primeiro com metade do segundo .\n",
    "* a soma do triplo do primeiro com o terceiro.\n",
    "* o terceiro elevado ao cubo."
   ]
  },
  {
   "cell_type": "code",
   "execution_count": 45,
   "metadata": {
    "colab": {},
    "colab_type": "code",
    "id": "ZEqZrKjt0F5B"
   },
   "outputs": [
    {
     "name": "stdout",
     "output_type": "stream",
     "text": [
      "Digite o primeiro número: 10\n",
      "Digite o segundo número: 10\n",
      "Digite o terceiro número: 3\n",
      "A soma do dobro do primeiro com a metade do segundo é de: 25.0\n",
      "A soma do triplo do primeiro com o terceiro é de: 33.0\n",
      "O valor do terceiro número elevado ao cubo é de:  27.0\n"
     ]
    }
   ],
   "source": [
    "num1 = int(input(\"Digite o primeiro número: \"))\n",
    "num2 = int(input(\"Digite o segundo número: \"))\n",
    "num3 = float(input(\"Digite o terceiro número: \"))\n",
    "somaDobro = (2* num1) + (num2/2)\n",
    "somaTriplo = (3 * num1) + num3\n",
    "exponCubo = num3**3\n",
    "print(\"A soma do dobro do primeiro com a metade do segundo é de:\", somaDobro)\n",
    "print(\"A soma do triplo do primeiro com o terceiro é de:\", somaTriplo)\n",
    "print(\"O valor do terceiro número elevado ao cubo é de: \", exponCubo)"
   ]
  },
  {
   "cell_type": "code",
   "execution_count": null,
   "metadata": {},
   "outputs": [],
   "source": []
  }
 ],
 "metadata": {
  "colab": {
   "name": "Fase1.ipynb",
   "provenance": []
  },
  "kernelspec": {
   "display_name": "Python 3",
   "language": "python",
   "name": "python3"
  },
  "language_info": {
   "codemirror_mode": {
    "name": "ipython",
    "version": 3
   },
   "file_extension": ".py",
   "mimetype": "text/x-python",
   "name": "python",
   "nbconvert_exporter": "python",
   "pygments_lexer": "ipython3",
   "version": "3.8.3"
  }
 },
 "nbformat": 4,
 "nbformat_minor": 1
}
